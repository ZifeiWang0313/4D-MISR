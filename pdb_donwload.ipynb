{
 "cells": [
  {
   "cell_type": "code",
   "execution_count": 1,
   "metadata": {},
   "outputs": [],
   "source": [
    "import os\n",
    "import concurrent.futures\n",
    "import urllib.request"
   ]
  },
  {
   "cell_type": "code",
   "execution_count": 2,
   "metadata": {},
   "outputs": [],
   "source": [
    "with open('pdbname.txt', 'r', encoding='utf-8') as file:\n",
    "    content = file.read().lower()\n",
    "    pdb_filenames = content.split(',')\n",
    "\n",
    "output_dir = \"pdb_folder\""
   ]
  },
  {
   "cell_type": "code",
   "execution_count": null,
   "metadata": {},
   "outputs": [],
   "source": [
    "def download_pdb(pdb_id):\n",
    "    \"\"\"Download a single PDB file. The download will be automatically cancelled if it takes more than 60 seconds.\"\"\"\n",
    "    url = f\"https://files.rcsb.org/download/{pdb_id}.pdb\"\n",
    "    fname = os.path.join(output_dir, f\"{pdb_id}.pdb\")\n",
    "    \n",
    "    try:\n",
    "        with urllib.request.urlopen(url, timeout=60) as response, open(fname, \"wb\") as f:\n",
    "            f.write(response.read())\n",
    "        print(f\"✅ downloaded successfully: {pdb_id}\")\n",
    "    except urllib.error.HTTPError as e:\n",
    "        print(f\"❌ HTTP error {e.code}: {pdb_id}\")\n",
    "    except urllib.error.URLError as e:\n",
    "        print(f\"❌ URL error: {pdb_id} - {e.reason}\")\n",
    "    except TimeoutError:\n",
    "        print(f\"⏳ Download timeout (60 seconds): {pdb_id}\")\n",
    "    except Exception as e:\n",
    "        print(f\"❌ unknown error: {pdb_id} - {e}\")\n",
    "\n",
    "# Download multiple PDB files in parallel\n",
    "def download_pdb_files(pdb_filenames, max_workers=10):\n",
    "    \"\"\"Use multi-threading for parallel downloading and set a timeout mechanism\"\"\"\n",
    "    with concurrent.futures.ThreadPoolExecutor(max_workers=max_workers) as executor:\n",
    "        future_to_pdb = {executor.submit(download_pdb, pdb_id): pdb_id for pdb_id in pdb_filenames}\n",
    "\n",
    "        for future in concurrent.futures.as_completed(future_to_pdb):\n",
    "            pdb_id = future_to_pdb[future]\n",
    "            try:\n",
    "                future.result(timeout=60)  # Set timeout\n",
    "            except concurrent.futures.TimeoutError:\n",
    "                print(f\"⏳ Task has exceeded the time limit (60 seconds): {pdb_id}\")\n",
    "            except Exception as e:\n",
    "                print(f\"❌ Task failed {pdb_id}: {e}\")"
   ]
  },
  {
   "cell_type": "code",
   "execution_count": null,
   "metadata": {},
   "outputs": [],
   "source": [
    "download_pdb_files(pdb_filenames, max_workers=10)"
   ]
  }
 ],
 "metadata": {
  "kernelspec": {
   "display_name": "misr_4dstem",
   "language": "python",
   "name": "python3"
  },
  "language_info": {
   "codemirror_mode": {
    "name": "ipython",
    "version": 3
   },
   "file_extension": ".py",
   "mimetype": "text/x-python",
   "name": "python",
   "nbconvert_exporter": "python",
   "pygments_lexer": "ipython3",
   "version": "3.6.12"
  }
 },
 "nbformat": 4,
 "nbformat_minor": 2
}
